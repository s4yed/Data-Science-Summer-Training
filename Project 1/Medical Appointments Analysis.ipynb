{
 "cells": [
  {
   "cell_type": "markdown",
   "metadata": {},
   "source": [
    "# Task 2: Medical Appointments No Shows Data Analysis\n",
    "\n",
    "## Table of contents\n",
    "\n",
    "<ul>\n",
    "    <li><a href=\"#intro\">Introduction</a></li>\n",
    "    <li><a href=\"#wrangling\">Data Wrangling</a></li>\n",
    "    <li><a href=\"#eda\">Exploratory Analysis</a></li>\n",
    "    <li><a href=\"#conclusions\">Conclusions</a></li>\n",
    "</ul>"
   ]
  },
  {
   "cell_type": "markdown",
   "metadata": {},
   "source": [
    "<a id=\"intro\"></a>\n",
    "## Introduction \n",
    "\n",
    "A person makes a doctor appointment, receives all the instructions and no-show. Who to blame?\n",
    "If this help you studying or working, please don´t forget to upvote :). The dataset contains about 110k medical appointments with its 14 associated variables (characteristics). The most important one if the patient show-up or no-show to the appointment. Reference to Joni Hoppen and Aquarela Advanced Analytics [Aquarela](http://bit.ly/2Ulwskh).\n",
    "\n",
    "### Some Definitions:\n",
    "\n",
    "- **Hipertension:** Also known as high blood pressure (HBP), is a long-term medical condition in which the blood pressure in the arteries is persistently elevated.\n",
    "- **Alcoholism:** Broadly, any drinking of alcohol that results in significant mental or physical health problems. \n",
    "- **Handcap:** Disability, an impairment that substantially affects a person's life activities, and may be present at birth or arise later in life.\n",
    "- **Diabetes:** A disease in which your blood glucose, or blood sugar, levels are too high.\n",
    "- **Scholarship:** This variable means this concept: [Bolsa Família](https://en.wikipedia.org/wiki/Bolsa_Fam%C3%ADlia)\n",
    "\n",
    "### Data Dictionary\n",
    "\n",
    "- **PatientId:** Identification of a patient\n",
    "- **AppointmentID:** Identification of each appointment\n",
    "- **Gender:** Male or Female.\n",
    "- **ScheduledDay:** The day someone called or registered the appointment, this is before appointment of course.\n",
    "- **DataAgendamento:** The day of the actuall appointment, when they have to visit the doctor.\n",
    "- **Age:** How old is the patient.\n",
    "- **Neighbourhood:** Where the appointment takes place.\n",
    "- **Scholarship:** True of False.\n",
    "- **Hipertension:** True or False.\n",
    "- **Diabetes:** True or False.\n",
    "- **Alcoholism:** True or False.\n",
    "- **Handcap:** True or False.\n",
    "- **SMS_received:** 1 or more messages sent to the patient.\n",
    "- **No-show:** True or False.\n",
    "\n",
    "### Questions that would be able to answer during our analysis:\n",
    "\n",
    "- What is the percentage of patients who showed up and who didn't?\n",
    "- Who is the most committed to the schedule males or females?\n",
    "- Does receiving SMS or not affect showing up the patients?\n",
    "- Does the duration between the apointment day and the schedule day affect showing up the patients?\n",
    "- Dows alcoholism affect the ability to show up?\n",
    "- Where is the place that most patients showed up?\n",
    "- What is the most disease by which the patients are diagnosed?\n",
    "- Does a certain age more committed to the appointment than the others?\n",
    "\n",
    "In order to address those questions, there are some things to do such as:\n",
    "\n",
    "1. Cleaning the dataset from any incorrect datatypes or null values.\n",
    "2. Calculating some statistics about the variables and look for any relationships in the data.\n",
    "3. Drawing conclusions with some charts and communicating the findings."
   ]
  },
  {
   "cell_type": "code",
   "execution_count": 1,
   "metadata": {},
   "outputs": [
    {
     "name": "stderr",
     "output_type": "stream",
     "text": [
      "\n",
      "Attaching package: 'dplyr'\n",
      "\n",
      "The following objects are masked from 'package:stats':\n",
      "\n",
      "    filter, lag\n",
      "\n",
      "The following objects are masked from 'package:base':\n",
      "\n",
      "    intersect, setdiff, setequal, union\n",
      "\n",
      "Registered S3 methods overwritten by 'ggplot2':\n",
      "  method         from \n",
      "  [.quosures     rlang\n",
      "  c.quosures     rlang\n",
      "  print.quosures rlang\n"
     ]
    }
   ],
   "source": [
    "# turn off scientific notation like 1e+06\n",
    "options(scipen=999, warn=-1)\n",
    "# Import Libraries\n",
    "library(dplyr)\n",
    "library(ggplot2)\n",
    "theme_set(theme_minimal())"
   ]
  },
  {
   "cell_type": "markdown",
   "metadata": {},
   "source": [
    "<a id=\"wrangling\"></a>\n",
    "## Data Wrangling\n",
    "\n",
    "### Gathering"
   ]
  },
  {
   "cell_type": "code",
   "execution_count": 2,
   "metadata": {},
   "outputs": [],
   "source": [
    "# Read the dataset as dataframe\n",
    "appointment_data <- read.csv(\"noshowappointments-kagglev2-may-2016.csv\")"
   ]
  },
  {
   "cell_type": "code",
   "execution_count": 3,
   "metadata": {},
   "outputs": [
    {
     "data": {
      "text/html": [
       "<table>\n",
       "<thead><tr><th></th><th scope=col>PatientId</th><th scope=col>AppointmentID</th><th scope=col>Gender</th><th scope=col>ScheduledDay</th><th scope=col>AppointmentDay</th><th scope=col>Age</th><th scope=col>Neighbourhood</th><th scope=col>Scholarship</th><th scope=col>Hipertension</th><th scope=col>Diabetes</th><th scope=col>Alcoholism</th><th scope=col>Handcap</th><th scope=col>SMS_received</th><th scope=col>No.show</th></tr></thead>\n",
       "<tbody>\n",
       "\t<tr><th scope=row>110523</th><td>  2572134369293     </td><td>5651768             </td><td>F                   </td><td>2016-05-03T09:15:35Z</td><td>2016-06-07T00:00:00Z</td><td>56                  </td><td>MARIA ORTIZ         </td><td>0                   </td><td>0                   </td><td>0                   </td><td>0                   </td><td>0                   </td><td>1                   </td><td>No                  </td></tr>\n",
       "\t<tr><th scope=row>110524</th><td>  3596266328735     </td><td>5650093             </td><td>F                   </td><td>2016-05-03T07:27:33Z</td><td>2016-06-07T00:00:00Z</td><td>51                  </td><td>MARIA ORTIZ         </td><td>0                   </td><td>0                   </td><td>0                   </td><td>0                   </td><td>0                   </td><td>1                   </td><td>No                  </td></tr>\n",
       "\t<tr><th scope=row>110525</th><td> 15576631729893     </td><td>5630692             </td><td>F                   </td><td>2016-04-27T16:03:52Z</td><td>2016-06-07T00:00:00Z</td><td>21                  </td><td>MARIA ORTIZ         </td><td>0                   </td><td>0                   </td><td>0                   </td><td>0                   </td><td>0                   </td><td>1                   </td><td>No                  </td></tr>\n",
       "\t<tr><th scope=row>110526</th><td> 92134931435557     </td><td>5630323             </td><td>F                   </td><td>2016-04-27T15:09:23Z</td><td>2016-06-07T00:00:00Z</td><td>38                  </td><td>MARIA ORTIZ         </td><td>0                   </td><td>0                   </td><td>0                   </td><td>0                   </td><td>0                   </td><td>1                   </td><td>No                  </td></tr>\n",
       "\t<tr><th scope=row>110527</th><td>377511518121127     </td><td>5629448             </td><td>F                   </td><td>2016-04-27T13:30:56Z</td><td>2016-06-07T00:00:00Z</td><td>54                  </td><td>MARIA ORTIZ         </td><td>0                   </td><td>0                   </td><td>0                   </td><td>0                   </td><td>0                   </td><td>1                   </td><td>No                  </td></tr>\n",
       "</tbody>\n",
       "</table>\n"
      ],
      "text/latex": [
       "\\begin{tabular}{r|llllllllllllll}\n",
       "  & PatientId & AppointmentID & Gender & ScheduledDay & AppointmentDay & Age & Neighbourhood & Scholarship & Hipertension & Diabetes & Alcoholism & Handcap & SMS\\_received & No.show\\\\\n",
       "\\hline\n",
       "\t110523 &   2572134369293      & 5651768              & F                    & 2016-05-03T09:15:35Z & 2016-06-07T00:00:00Z & 56                   & MARIA ORTIZ          & 0                    & 0                    & 0                    & 0                    & 0                    & 1                    & No                  \\\\\n",
       "\t110524 &   3596266328735      & 5650093              & F                    & 2016-05-03T07:27:33Z & 2016-06-07T00:00:00Z & 51                   & MARIA ORTIZ          & 0                    & 0                    & 0                    & 0                    & 0                    & 1                    & No                  \\\\\n",
       "\t110525 &  15576631729893      & 5630692              & F                    & 2016-04-27T16:03:52Z & 2016-06-07T00:00:00Z & 21                   & MARIA ORTIZ          & 0                    & 0                    & 0                    & 0                    & 0                    & 1                    & No                  \\\\\n",
       "\t110526 &  92134931435557      & 5630323              & F                    & 2016-04-27T15:09:23Z & 2016-06-07T00:00:00Z & 38                   & MARIA ORTIZ          & 0                    & 0                    & 0                    & 0                    & 0                    & 1                    & No                  \\\\\n",
       "\t110527 & 377511518121127      & 5629448              & F                    & 2016-04-27T13:30:56Z & 2016-06-07T00:00:00Z & 54                   & MARIA ORTIZ          & 0                    & 0                    & 0                    & 0                    & 0                    & 1                    & No                  \\\\\n",
       "\\end{tabular}\n"
      ],
      "text/markdown": [
       "\n",
       "| <!--/--> | PatientId | AppointmentID | Gender | ScheduledDay | AppointmentDay | Age | Neighbourhood | Scholarship | Hipertension | Diabetes | Alcoholism | Handcap | SMS_received | No.show |\n",
       "|---|---|---|---|---|---|---|---|---|---|---|---|---|---|---|\n",
       "| 110523 |   2572134369293      | 5651768              | F                    | 2016-05-03T09:15:35Z | 2016-06-07T00:00:00Z | 56                   | MARIA ORTIZ          | 0                    | 0                    | 0                    | 0                    | 0                    | 1                    | No                   |\n",
       "| 110524 |   3596266328735      | 5650093              | F                    | 2016-05-03T07:27:33Z | 2016-06-07T00:00:00Z | 51                   | MARIA ORTIZ          | 0                    | 0                    | 0                    | 0                    | 0                    | 1                    | No                   |\n",
       "| 110525 |  15576631729893      | 5630692              | F                    | 2016-04-27T16:03:52Z | 2016-06-07T00:00:00Z | 21                   | MARIA ORTIZ          | 0                    | 0                    | 0                    | 0                    | 0                    | 1                    | No                   |\n",
       "| 110526 |  92134931435557      | 5630323              | F                    | 2016-04-27T15:09:23Z | 2016-06-07T00:00:00Z | 38                   | MARIA ORTIZ          | 0                    | 0                    | 0                    | 0                    | 0                    | 1                    | No                   |\n",
       "| 110527 | 377511518121127      | 5629448              | F                    | 2016-04-27T13:30:56Z | 2016-06-07T00:00:00Z | 54                   | MARIA ORTIZ          | 0                    | 0                    | 0                    | 0                    | 0                    | 1                    | No                   |\n",
       "\n"
      ],
      "text/plain": [
       "       PatientId       AppointmentID Gender ScheduledDay        \n",
       "110523   2572134369293 5651768       F      2016-05-03T09:15:35Z\n",
       "110524   3596266328735 5650093       F      2016-05-03T07:27:33Z\n",
       "110525  15576631729893 5630692       F      2016-04-27T16:03:52Z\n",
       "110526  92134931435557 5630323       F      2016-04-27T15:09:23Z\n",
       "110527 377511518121127 5629448       F      2016-04-27T13:30:56Z\n",
       "       AppointmentDay       Age Neighbourhood Scholarship Hipertension Diabetes\n",
       "110523 2016-06-07T00:00:00Z 56  MARIA ORTIZ   0           0            0       \n",
       "110524 2016-06-07T00:00:00Z 51  MARIA ORTIZ   0           0            0       \n",
       "110525 2016-06-07T00:00:00Z 21  MARIA ORTIZ   0           0            0       \n",
       "110526 2016-06-07T00:00:00Z 38  MARIA ORTIZ   0           0            0       \n",
       "110527 2016-06-07T00:00:00Z 54  MARIA ORTIZ   0           0            0       \n",
       "       Alcoholism Handcap SMS_received No.show\n",
       "110523 0          0       1            No     \n",
       "110524 0          0       1            No     \n",
       "110525 0          0       1            No     \n",
       "110526 0          0       1            No     \n",
       "110527 0          0       1            No     "
      ]
     },
     "metadata": {},
     "output_type": "display_data"
    }
   ],
   "source": [
    "# Last 5 rows of the dataset\n",
    "tail(appointment_data, 5)"
   ]
  },
  {
   "cell_type": "markdown",
   "metadata": {},
   "source": [
    "### Assessing"
   ]
  },
  {
   "cell_type": "code",
   "execution_count": 4,
   "metadata": {},
   "outputs": [
    {
     "data": {
      "text/html": [
       "<ol class=list-inline>\n",
       "\t<li>110527</li>\n",
       "\t<li>14</li>\n",
       "</ol>\n"
      ],
      "text/latex": [
       "\\begin{enumerate*}\n",
       "\\item 110527\n",
       "\\item 14\n",
       "\\end{enumerate*}\n"
      ],
      "text/markdown": [
       "1. 110527\n",
       "2. 14\n",
       "\n",
       "\n"
      ],
      "text/plain": [
       "[1] 110527     14"
      ]
     },
     "metadata": {},
     "output_type": "display_data"
    }
   ],
   "source": [
    "# Appointments data rows and columns respectively \n",
    "dim(appointment_data)"
   ]
  },
  {
   "cell_type": "code",
   "execution_count": 5,
   "metadata": {},
   "outputs": [
    {
     "data": {
      "text/plain": [
       "   PatientId               AppointmentID     Gender   \n",
       " Min.   :          39218   Min.   :5030230   F:71840  \n",
       " 1st Qu.:  4172614444190   1st Qu.:5640286   M:38687  \n",
       " Median : 31731838714000   Median :5680573            \n",
       " Mean   :147496265710000   Mean   :5675305            \n",
       " 3rd Qu.: 94391720898200   3rd Qu.:5725524            \n",
       " Max.   :999981631772000   Max.   :5790484            \n",
       "                                                      \n",
       "               ScheduledDay                 AppointmentDay       Age        \n",
       " 2016-05-06T07:09:54Z:    24   2016-06-06T00:00:00Z: 4692   Min.   : -1.00  \n",
       " 2016-05-06T07:09:53Z:    23   2016-05-16T00:00:00Z: 4613   1st Qu.: 18.00  \n",
       " 2016-04-25T17:17:46Z:    22   2016-05-09T00:00:00Z: 4520   Median : 37.00  \n",
       " 2016-04-25T17:18:27Z:    22   2016-05-30T00:00:00Z: 4514   Mean   : 37.09  \n",
       " 2016-04-25T17:17:23Z:    19   2016-06-08T00:00:00Z: 4479   3rd Qu.: 55.00  \n",
       " 2016-04-25T17:19:03Z:    15   2016-05-11T00:00:00Z: 4474   Max.   :115.00  \n",
       " (Other)             :110402   (Other)             :83235                   \n",
       "         Neighbourhood    Scholarship       Hipertension       Diabetes      \n",
       " JARDIM CAMBURI : 7717   Min.   :0.00000   Min.   :0.0000   Min.   :0.00000  \n",
       " MARIA ORTIZ    : 5805   1st Qu.:0.00000   1st Qu.:0.0000   1st Qu.:0.00000  \n",
       " RESISTÃŠNCIA   : 4431   Median :0.00000   Median :0.0000   Median :0.00000  \n",
       " JARDIM DA PENHA: 3877   Mean   :0.09827   Mean   :0.1972   Mean   :0.07186  \n",
       " ITARARÃ‰       : 3514   3rd Qu.:0.00000   3rd Qu.:0.0000   3rd Qu.:0.00000  \n",
       " CENTRO         : 3334   Max.   :1.00000   Max.   :1.0000   Max.   :1.00000  \n",
       " (Other)        :81849                                                       \n",
       "   Alcoholism        Handcap         SMS_received   No.show    \n",
       " Min.   :0.0000   Min.   :0.00000   Min.   :0.000   No :88208  \n",
       " 1st Qu.:0.0000   1st Qu.:0.00000   1st Qu.:0.000   Yes:22319  \n",
       " Median :0.0000   Median :0.00000   Median :0.000              \n",
       " Mean   :0.0304   Mean   :0.02225   Mean   :0.321              \n",
       " 3rd Qu.:0.0000   3rd Qu.:0.00000   3rd Qu.:1.000              \n",
       " Max.   :1.0000   Max.   :4.00000   Max.   :1.000              \n",
       "                                                               "
      ]
     },
     "metadata": {},
     "output_type": "display_data"
    }
   ],
   "source": [
    "summary(appointment_data)"
   ]
  },
  {
   "cell_type": "markdown",
   "metadata": {},
   "source": [
    "The variables seems fine except the `Age` column has negative values."
   ]
  },
  {
   "cell_type": "code",
   "execution_count": 6,
   "metadata": {},
   "outputs": [
    {
     "name": "stdout",
     "output_type": "stream",
     "text": [
      "Observations: 110,527\n",
      "Variables: 14\n",
      "$ PatientId      <dbl> 29872499824296, 558997776694438, 4262962299951, 8679...\n",
      "$ AppointmentID  <int> 5642903, 5642503, 5642549, 5642828, 5642494, 5626772...\n",
      "$ Gender         <fct> F, M, F, F, F, F, F, F, F, F, F, M, F, M, F, F, M, F...\n",
      "$ ScheduledDay   <fct> 2016-04-29T18:38:08Z, 2016-04-29T16:08:27Z, 2016-04-...\n",
      "$ AppointmentDay <fct> 2016-04-29T00:00:00Z, 2016-04-29T00:00:00Z, 2016-04-...\n",
      "$ Age            <int> 62, 56, 62, 8, 56, 76, 23, 39, 21, 19, 30, 29, 22, 2...\n",
      "$ Neighbourhood  <fct> JARDIM DA PENHA, JARDIM DA PENHA, MATA DA PRAIA, PON...\n",
      "$ Scholarship    <int> 0, 0, 0, 0, 0, 0, 0, 0, 0, 0, 0, 0, 1, 0, 0, 0, 0, 1...\n",
      "$ Hipertension   <int> 1, 0, 0, 0, 1, 1, 0, 0, 0, 0, 0, 0, 0, 0, 0, 0, 0, 0...\n",
      "$ Diabetes       <int> 0, 0, 0, 0, 1, 0, 0, 0, 0, 0, 0, 0, 0, 0, 0, 0, 0, 0...\n",
      "$ Alcoholism     <int> 0, 0, 0, 0, 0, 0, 0, 0, 0, 0, 0, 0, 0, 0, 0, 0, 0, 0...\n",
      "$ Handcap        <int> 0, 0, 0, 0, 0, 0, 0, 0, 0, 0, 0, 0, 0, 0, 0, 0, 0, 0...\n",
      "$ SMS_received   <int> 0, 0, 0, 0, 0, 0, 0, 0, 0, 0, 0, 1, 0, 0, 0, 1, 0, 0...\n",
      "$ No.show        <fct> No, No, No, No, No, No, Yes, Yes, No, No, No, Yes, N...\n"
     ]
    }
   ],
   "source": [
    "# The structure of the dataframe\n",
    "glimpse(appointment_data)"
   ]
  },
  {
   "cell_type": "markdown",
   "metadata": {},
   "source": [
    "Most of the variable are in the correct type, but the other ones are not such as `No.show`, `SMS_received`, `Hipertension`, `Diabetes`, `Alcoholism`, `Handcap`, `Scholarship` must be logical, `ScheduledDay` and `AppointmentDay` must be as a date not string.\n"
   ]
  },
  {
   "cell_type": "code",
   "execution_count": 7,
   "metadata": {},
   "outputs": [
    {
     "data": {
      "text/html": [
       "0"
      ],
      "text/latex": [
       "0"
      ],
      "text/markdown": [
       "0"
      ],
      "text/plain": [
       "[1] 0"
      ]
     },
     "metadata": {},
     "output_type": "display_data"
    }
   ],
   "source": [
    "# Count the nan values in the data\n",
    "sum(is.na(appointment_data))"
   ]
  },
  {
   "cell_type": "markdown",
   "metadata": {},
   "source": [
    "Thankfully, there's no variable with `nan` values."
   ]
  },
  {
   "cell_type": "markdown",
   "metadata": {},
   "source": [
    "### Cleaning\n",
    "\n",
    "Let's reassign each of the misstyped variables into its actual data type."
   ]
  },
  {
   "cell_type": "code",
   "execution_count": 8,
   "metadata": {},
   "outputs": [],
   "source": [
    "appointment_data$SMS_received = as.logical(appointment_data$SMS_received)\n",
    "appointment_data$Diabetes = as.logical(appointment_data$Diabetes)\n",
    "appointment_data$Hipertension = as.logical(appointment_data$Hipertension)\n",
    "appointment_data$Alcoholism = as.logical(appointment_data$Alcoholism)\n",
    "appointment_data$Scholarship = as.logical(appointment_data$Scholarship)\n",
    "appointment_data$Handcap = as.logical(appointment_data$Handcap) \n",
    "appointment_data$ScheduledDay = as.POSIXct(appointment_data$ScheduledDay)\n",
    "appointment_data$AppointmentDay = as.POSIXct(appointment_data$AppointmentDay)"
   ]
  },
  {
   "cell_type": "markdown",
   "metadata": {},
   "source": [
    "Rename `No.show` column into status is `TRUE` if patient showedup otherwise `FALSE`"
   ]
  },
  {
   "cell_type": "code",
   "execution_count": 9,
   "metadata": {},
   "outputs": [
    {
     "name": "stdout",
     "output_type": "stream",
     "text": [
      "Observations: 110,527\n",
      "Variables: 14\n",
      "$ PatientId      <dbl> 29872499824296, 558997776694438, 4262962299951, 8679...\n",
      "$ AppointmentID  <int> 5642903, 5642503, 5642549, 5642828, 5642494, 5626772...\n",
      "$ Gender         <fct> F, M, F, F, F, F, F, F, F, F, F, M, F, M, F, F, M, F...\n",
      "$ ScheduledDay   <dttm> 2016-04-29, 2016-04-29, 2016-04-29, 2016-04-29, 201...\n",
      "$ AppointmentDay <dttm> 2016-04-29, 2016-04-29, 2016-04-29, 2016-04-29, 201...\n",
      "$ Age            <int> 62, 56, 62, 8, 56, 76, 23, 39, 21, 19, 30, 29, 22, 2...\n",
      "$ Neighbourhood  <fct> JARDIM DA PENHA, JARDIM DA PENHA, MATA DA PRAIA, PON...\n",
      "$ Scholarship    <lgl> FALSE, FALSE, FALSE, FALSE, FALSE, FALSE, FALSE, FAL...\n",
      "$ Hipertension   <lgl> TRUE, FALSE, FALSE, FALSE, TRUE, TRUE, FALSE, FALSE,...\n",
      "$ Diabetes       <lgl> FALSE, FALSE, FALSE, FALSE, TRUE, FALSE, FALSE, FALS...\n",
      "$ Alcoholism     <lgl> FALSE, FALSE, FALSE, FALSE, FALSE, FALSE, FALSE, FAL...\n",
      "$ Handcap        <lgl> FALSE, FALSE, FALSE, FALSE, FALSE, FALSE, FALSE, FAL...\n",
      "$ SMS_received   <lgl> FALSE, FALSE, FALSE, FALSE, FALSE, FALSE, FALSE, FAL...\n",
      "$ status         <lgl> TRUE, TRUE, TRUE, TRUE, TRUE, TRUE, FALSE, FALSE, TR...\n"
     ]
    }
   ],
   "source": [
    "appointment_data = mutate(appointment_data, status = No.show == \"No\")\n",
    "appointment_data = appointment_data[, -14]\n",
    "glimpse(appointment_data)"
   ]
  },
  {
   "cell_type": "code",
   "execution_count": 10,
   "metadata": {},
   "outputs": [
    {
     "data": {
      "text/html": [
       "0"
      ],
      "text/latex": [
       "0"
      ],
      "text/markdown": [
       "0"
      ],
      "text/plain": [
       "[1] 0"
      ]
     },
     "metadata": {},
     "output_type": "display_data"
    }
   ],
   "source": [
    "# Drop negative values from the Age column\n",
    "appointment_data = appointment_data[appointment_data$Age >= 0, ]\n",
    "sum(appointment_data$Age < 0)"
   ]
  },
  {
   "cell_type": "code",
   "execution_count": 11,
   "metadata": {},
   "outputs": [
    {
     "data": {
      "text/html": [
       "62298"
      ],
      "text/latex": [
       "62298"
      ],
      "text/markdown": [
       "62298"
      ],
      "text/plain": [
       "[1] 62298"
      ]
     },
     "metadata": {},
     "output_type": "display_data"
    },
    {
     "data": {
      "text/html": [
       "0"
      ],
      "text/latex": [
       "0"
      ],
      "text/markdown": [
       "0"
      ],
      "text/plain": [
       "[1] 0"
      ]
     },
     "metadata": {},
     "output_type": "display_data"
    }
   ],
   "source": [
    "# Check for any duplicates in the dateset\n",
    "length(unique(appointment_data$PatientId))\n",
    "sum(duplicated(appointment_data$AppointmentID))"
   ]
  },
  {
   "cell_type": "markdown",
   "metadata": {},
   "source": [
    "That's seems good, there's no duplicates in the appointments. But there're 62299 unique patients and that means a patient may register for more than one appointment."
   ]
  },
  {
   "cell_type": "markdown",
   "metadata": {},
   "source": [
    "<a id='eda'></a>\n",
    "## Exploratory Analysis\n",
    "\n",
    "All the variables are categorical except one `Age`, so let's plot its histogram with each of the gender."
   ]
  },
  {
   "cell_type": "code",
   "execution_count": 12,
   "metadata": {},
   "outputs": [
    {
     "data": {
      "image/png": "[encoded data removed]",
      "text/plain": [
       "plot without title"
      ]
     },
     "metadata": {},
     "output_type": "display_data"
    }
   ],
   "source": [
    "options(repr.plot.width = 8, repr.plot.height = 3)  \n",
    "ggplot(appointment_data, aes(x=Age, fill=Gender, color=Gender)) +\n",
    "    geom_histogram(binwidth=2, alpha=0.5, position=\"identity\")"
   ]
  },
  {
   "cell_type": "markdown",
   "metadata": {},
   "source": [
    "The age looks right skewed for both genders, however the females are more than males starting from the 20s."
   ]
  },
  {
   "cell_type": "markdown",
   "metadata": {},
   "source": [
    "### What is the percentage of patients who showed up and who didn't?"
   ]
  },
  {
   "cell_type": "code",
   "execution_count": 13,
   "metadata": {},
   "outputs": [
    {
     "data": {
      "text/html": [
       "<table>\n",
       "<thead><tr><th scope=col>status</th><th scope=col>n</th><th scope=col>ratio</th></tr></thead>\n",
       "<tbody>\n",
       "\t<tr><td>FALSE    </td><td>22319    </td><td>0.2019344</td></tr>\n",
       "\t<tr><td> TRUE    </td><td>88207    </td><td>0.7980656</td></tr>\n",
       "</tbody>\n",
       "</table>\n"
      ],
      "text/latex": [
       "\\begin{tabular}{r|lll}\n",
       " status & n & ratio\\\\\n",
       "\\hline\n",
       "\t FALSE     & 22319     & 0.2019344\\\\\n",
       "\t  TRUE     & 88207     & 0.7980656\\\\\n",
       "\\end{tabular}\n"
      ],
      "text/markdown": [
       "\n",
       "| status | n | ratio |\n",
       "|---|---|---|\n",
       "| FALSE     | 22319     | 0.2019344 |\n",
       "|  TRUE     | 88207     | 0.7980656 |\n",
       "\n"
      ],
      "text/plain": [
       "  status n     ratio    \n",
       "1 FALSE  22319 0.2019344\n",
       "2  TRUE  88207 0.7980656"
      ]
     },
     "metadata": {},
     "output_type": "display_data"
    }
   ],
   "source": [
    "by_status = group_by(appointment_data, status)\n",
    "by_status = mutate(count(by_status), ratio = n  / dim(appointment_data)[1] )\n",
    "by_status"
   ]
  },
  {
   "cell_type": "code",
   "execution_count": 14,
   "metadata": {},
   "outputs": [
    {
     "data": {
      "image/png": "[encoded data removed]",
      "text/plain": [
       "plot without title"
      ]
     },
     "metadata": {},
     "output_type": "display_data"
    }
   ],
   "source": [
    "by_status %>% \n",
    "    ggplot(aes(x=\"\", y=ratio, fill=status))+\n",
    "    geom_bar(, stat=\"identity\", width = 1, alpha=0.7)+\n",
    "    coord_polar(\"y\", start=-1)+\n",
    "    theme_void()+\n",
    "    scale_fill_brewer(palette=\"Set1\") +\n",
    "    geom_text(aes(x=1, y = cumsum(ratio) - ratio, label=scales::percent(ratio)), color=\"white\")"
   ]
  },
  {
   "cell_type": "markdown",
   "metadata": {},
   "source": [
    "The're almost 80% of all patients has been showed up and 20% hasn't."
   ]
  },
  {
   "cell_type": "markdown",
   "metadata": {},
   "source": [
    "### Who is the most committed to the schedule males or females?"
   ]
  },
  {
   "cell_type": "markdown",
   "metadata": {},
   "source": [
    "Let's first see the number percentage of males vs females in th data."
   ]
  },
  {
   "cell_type": "code",
   "execution_count": 15,
   "metadata": {
    "scrolled": true
   },
   "outputs": [
    {
     "data": {
      "text/html": [
       "<table>\n",
       "<thead><tr><th scope=col>Gender</th><th scope=col>n</th><th scope=col>perc</th></tr></thead>\n",
       "<tbody>\n",
       "\t<tr><td>F    </td><td>71839</td><td>65   </td></tr>\n",
       "\t<tr><td>M    </td><td>38687</td><td>35   </td></tr>\n",
       "</tbody>\n",
       "</table>\n"
      ],
      "text/latex": [
       "\\begin{tabular}{r|lll}\n",
       " Gender & n & perc\\\\\n",
       "\\hline\n",
       "\t F     & 71839 & 65   \\\\\n",
       "\t M     & 38687 & 35   \\\\\n",
       "\\end{tabular}\n"
      ],
      "text/markdown": [
       "\n",
       "| Gender | n | perc |\n",
       "|---|---|---|\n",
       "| F     | 71839 | 65    |\n",
       "| M     | 38687 | 35    |\n",
       "\n"
      ],
      "text/plain": [
       "  Gender n     perc\n",
       "1 F      71839 65  \n",
       "2 M      38687 35  "
      ]
     },
     "metadata": {},
     "output_type": "display_data"
    }
   ],
   "source": [
    "by_gender = group_by(appointment_data, Gender)\n",
    "by_gender = mutate(count(by_gender), perc = round((n  / dim(appointment_data)[1])*100, 1))\n",
    "by_gender"
   ]
  },
  {
   "cell_type": "markdown",
   "metadata": {},
   "source": [
    "There's **35%** males and **65%** females of all the patients."
   ]
  },
  {
   "cell_type": "code",
   "execution_count": 16,
   "metadata": {},
   "outputs": [],
   "source": [
    "by_gender = group_by(appointment_data, Gender, status)\n",
    "by_gender = mutate(count(by_gender), perc = round(n  / dim(appointment_data)[1]*100,1))"
   ]
  },
  {
   "cell_type": "code",
   "execution_count": 17,
   "metadata": {},
   "outputs": [
    {
     "data": {
      "image/png": "[encoded data removed]",
      "text/plain": [
       "plot without title"
      ]
     },
     "metadata": {},
     "output_type": "display_data"
    }
   ],
   "source": [
    "options(repr.plot.width = 6, repr.plot.height = 3)  \n",
    "by_gender %>% \n",
    "    ggplot(aes(x=Gender, y=perc, fill=status)) +\n",
    "    geom_bar(stat=\"identity\", position=position_dodge(), color=\"skyblue4\") +\n",
    "    geom_text(aes(label=perc), vjust=1.6, color=\"white\",\n",
    "            position = position_dodge(0.9), size=3.5) +\n",
    "    scale_fill_brewer(palette=\"Paired\") + \n",
    "    labs(fill=\"Showed\", x=\"Gender\", y=\"Percentage %\")"
   ]
  },
  {
   "cell_type": "markdown",
   "metadata": {},
   "source": [
    "The female patients is the most committed to the schedule with **51.8%**, while males just **28%**."
   ]
  },
  {
   "cell_type": "markdown",
   "metadata": {},
   "source": [
    "### Does receiving SMS or not affect showing up the patients?"
   ]
  },
  {
   "cell_type": "code",
   "execution_count": 18,
   "metadata": {},
   "outputs": [
    {
     "data": {
      "text/html": [
       "<table>\n",
       "<thead><tr><th scope=col>status</th><th scope=col>SMS_received</th><th scope=col>n</th><th scope=col>perc</th></tr></thead>\n",
       "<tbody>\n",
       "\t<tr><td>FALSE</td><td>FALSE</td><td>12535</td><td>11.3 </td></tr>\n",
       "\t<tr><td>FALSE</td><td> TRUE</td><td> 9784</td><td> 8.9 </td></tr>\n",
       "\t<tr><td> TRUE</td><td>FALSE</td><td>62509</td><td>56.6 </td></tr>\n",
       "\t<tr><td> TRUE</td><td> TRUE</td><td>25698</td><td>23.3 </td></tr>\n",
       "</tbody>\n",
       "</table>\n"
      ],
      "text/latex": [
       "\\begin{tabular}{r|llll}\n",
       " status & SMS\\_received & n & perc\\\\\n",
       "\\hline\n",
       "\t FALSE & FALSE & 12535 & 11.3 \\\\\n",
       "\t FALSE &  TRUE &  9784 &  8.9 \\\\\n",
       "\t  TRUE & FALSE & 62509 & 56.6 \\\\\n",
       "\t  TRUE &  TRUE & 25698 & 23.3 \\\\\n",
       "\\end{tabular}\n"
      ],
      "text/markdown": [
       "\n",
       "| status | SMS_received | n | perc |\n",
       "|---|---|---|---|\n",
       "| FALSE | FALSE | 12535 | 11.3  |\n",
       "| FALSE |  TRUE |  9784 |  8.9  |\n",
       "|  TRUE | FALSE | 62509 | 56.6  |\n",
       "|  TRUE |  TRUE | 25698 | 23.3  |\n",
       "\n"
      ],
      "text/plain": [
       "  status SMS_received n     perc\n",
       "1 FALSE  FALSE        12535 11.3\n",
       "2 FALSE   TRUE         9784  8.9\n",
       "3  TRUE  FALSE        62509 56.6\n",
       "4  TRUE   TRUE        25698 23.3"
      ]
     },
     "metadata": {},
     "output_type": "display_data"
    }
   ],
   "source": [
    "# Group by showing up and weather received SMS or not\n",
    "by_sms = group_by(appointment_data, status, SMS_received)\n",
    "by_sms = mutate(count(by_sms), perc = round(n  / dim(appointment_data)[1]*100,1))\n",
    "by_sms"
   ]
  },
  {
   "cell_type": "code",
   "execution_count": 19,
   "metadata": {},
   "outputs": [
    {
     "data": {
      "image/png": "[encoded data removed]",
      "text/plain": [
       "plot without title"
      ]
     },
     "metadata": {},
     "output_type": "display_data"
    }
   ],
   "source": [
    "by_sms %>% \n",
    "    ggplot(aes(x=SMS_received, y=perc, fill=status)) +\n",
    "    geom_bar(stat=\"identity\", position=position_dodge(), color=\"tomato\") +\n",
    "    geom_text(aes(label=perc), vjust=1.6, color=\"tomato4\",\n",
    "            position = position_dodge(0.9), size=3.5) +\n",
    "    scale_fill_brewer(palette=\"Reds\") + \n",
    "    labs(fill=\"Showed\", x=\"SMS Recieved\", y=\"Percentage %\")"
   ]
  },
  {
   "cell_type": "markdown",
   "metadata": {},
   "source": [
    "Found that **56.6%** of who didn't received SMS showed up and **11.3%** didn't.\n",
    "\n",
    "Also, **23.3%** of who did receive SMS showed up and **8.9%** who didn't."
   ]
  },
  {
   "cell_type": "markdown",
   "metadata": {},
   "source": [
    "### Does the duration between the apointment day and the schedule day affect showing up the patients?"
   ]
  },
  {
   "cell_type": "code",
   "execution_count": 20,
   "metadata": {},
   "outputs": [
    {
     "data": {
      "text/html": [
       "<table>\n",
       "<thead><tr><th></th><th scope=col>duration</th><th scope=col>status</th></tr></thead>\n",
       "<tbody>\n",
       "\t<tr><th scope=row>110521</th><td>35  </td><td>TRUE</td></tr>\n",
       "\t<tr><th scope=row>110522</th><td>35  </td><td>TRUE</td></tr>\n",
       "\t<tr><th scope=row>110523</th><td>35  </td><td>TRUE</td></tr>\n",
       "\t<tr><th scope=row>110524</th><td>41  </td><td>TRUE</td></tr>\n",
       "\t<tr><th scope=row>110525</th><td>41  </td><td>TRUE</td></tr>\n",
       "\t<tr><th scope=row>110526</th><td>41  </td><td>TRUE</td></tr>\n",
       "</tbody>\n",
       "</table>\n"
      ],
      "text/latex": [
       "\\begin{tabular}{r|ll}\n",
       "  & duration & status\\\\\n",
       "\\hline\n",
       "\t110521 & 35   & TRUE\\\\\n",
       "\t110522 & 35   & TRUE\\\\\n",
       "\t110523 & 35   & TRUE\\\\\n",
       "\t110524 & 41   & TRUE\\\\\n",
       "\t110525 & 41   & TRUE\\\\\n",
       "\t110526 & 41   & TRUE\\\\\n",
       "\\end{tabular}\n"
      ],
      "text/markdown": [
       "\n",
       "| <!--/--> | duration | status |\n",
       "|---|---|---|\n",
       "| 110521 | 35   | TRUE |\n",
       "| 110522 | 35   | TRUE |\n",
       "| 110523 | 35   | TRUE |\n",
       "| 110524 | 41   | TRUE |\n",
       "| 110525 | 41   | TRUE |\n",
       "| 110526 | 41   | TRUE |\n",
       "\n"
      ],
      "text/plain": [
       "       duration status\n",
       "110521 35       TRUE  \n",
       "110522 35       TRUE  \n",
       "110523 35       TRUE  \n",
       "110524 41       TRUE  \n",
       "110525 41       TRUE  \n",
       "110526 41       TRUE  "
      ]
     },
     "metadata": {},
     "output_type": "display_data"
    }
   ],
   "source": [
    "diff_days = transmute(appointment_data, duration = as.integer(\n",
    "    difftime(appointment_data$AppointmentDay, \n",
    "    appointment_data$ScheduledDay, units = \"days\")),\n",
    "    status = appointment_data$status)\n",
    "tail(diff_days)"
   ]
  },
  {
   "cell_type": "code",
   "execution_count": 21,
   "metadata": {},
   "outputs": [
    {
     "data": {
      "image/png": "[encoded data removed]",
      "text/plain": [
       "plot without title"
      ]
     },
     "metadata": {},
     "output_type": "display_data"
    }
   ],
   "source": [
    "# Difference in days group by status\n",
    "diff_days %>% \n",
    "    group_by(status) %>%\n",
    "    summarise_at(vars(duration), funs(mean(., na.rm=TRUE))) %>%\n",
    "    # Plot the duration vs status\n",
    "    ggplot(aes(status, duration)) +\n",
    "    geom_bar(stat=\"identity\", width = 0.5, fill=\"skyblue1\", color=\"skyblue3\", alpha=0.7) + \n",
    "    labs(x=\"Showed\", y=\"Duration\") +\n",
    "    geom_text(aes(label=round(duration,1)), vjust=1.6, color=\"skyblue4\",\n",
    "            position = position_dodge(0.9), size=3.5)"
   ]
  },
  {
   "cell_type": "markdown",
   "metadata": {},
   "source": [
    "Surprisingly, when the average days between the schedule and the appointment day becomes higher the patient won't show up."
   ]
  },
  {
   "cell_type": "markdown",
   "metadata": {},
   "source": [
    "### Does alcoholism affect the ability to show up?"
   ]
  },
  {
   "cell_type": "code",
   "execution_count": 22,
   "metadata": {},
   "outputs": [
    {
     "data": {
      "text/html": [
       "<table>\n",
       "<thead><tr><th scope=col>Alcoholism</th><th scope=col>status</th><th scope=col>n</th><th scope=col>perc</th></tr></thead>\n",
       "<tbody>\n",
       "\t<tr><td>FALSE</td><td>FALSE</td><td>21642</td><td>19.6 </td></tr>\n",
       "\t<tr><td>FALSE</td><td> TRUE</td><td>85524</td><td>77.4 </td></tr>\n",
       "\t<tr><td> TRUE</td><td>FALSE</td><td>  677</td><td> 0.6 </td></tr>\n",
       "\t<tr><td> TRUE</td><td> TRUE</td><td> 2683</td><td> 2.4 </td></tr>\n",
       "</tbody>\n",
       "</table>\n"
      ],
      "text/latex": [
       "\\begin{tabular}{r|llll}\n",
       " Alcoholism & status & n & perc\\\\\n",
       "\\hline\n",
       "\t FALSE & FALSE & 21642 & 19.6 \\\\\n",
       "\t FALSE &  TRUE & 85524 & 77.4 \\\\\n",
       "\t  TRUE & FALSE &   677 &  0.6 \\\\\n",
       "\t  TRUE &  TRUE &  2683 &  2.4 \\\\\n",
       "\\end{tabular}\n"
      ],
      "text/markdown": [
       "\n",
       "| Alcoholism | status | n | perc |\n",
       "|---|---|---|---|\n",
       "| FALSE | FALSE | 21642 | 19.6  |\n",
       "| FALSE |  TRUE | 85524 | 77.4  |\n",
       "|  TRUE | FALSE |   677 |  0.6  |\n",
       "|  TRUE |  TRUE |  2683 |  2.4  |\n",
       "\n"
      ],
      "text/plain": [
       "  Alcoholism status n     perc\n",
       "1 FALSE      FALSE  21642 19.6\n",
       "2 FALSE       TRUE  85524 77.4\n",
       "3  TRUE      FALSE    677  0.6\n",
       "4  TRUE       TRUE   2683  2.4"
      ]
     },
     "metadata": {},
     "output_type": "display_data"
    }
   ],
   "source": [
    "by_alcoholism = group_by(appointment_data, Alcoholism , status)\n",
    "by_alcoholism = mutate(count(by_alcoholism), perc = round(n  / dim(appointment_data)[1]*100,1))\n",
    "by_alcoholism"
   ]
  },
  {
   "cell_type": "code",
   "execution_count": 23,
   "metadata": {},
   "outputs": [
    {
     "data": {
      "image/png": "[encoded data removed]",
      "text/plain": [
       "plot without title"
      ]
     },
     "metadata": {},
     "output_type": "display_data"
    }
   ],
   "source": [
    "options(repr.plot.width = 6, repr.plot.height = 4)  \n",
    "by_alcoholism %>% \n",
    "    ggplot(aes(x=Alcoholism, y=perc, fill=status)) +\n",
    "    geom_bar(stat=\"identity\", position=position_dodge(), color=\"grey1\")+\n",
    "    geom_text(aes(label=perc), vjust=1.6, color=\"grey2\",\n",
    "            position = position_dodge(0.9), size=3.5) +\n",
    "    scale_fill_brewer(palette=\"Greys\") + \n",
    "    labs(fill=\"Showed\", x=\"Has Alcoholism\", y=\"Percentage %\")"
   ]
  },
  {
   "cell_type": "markdown",
   "metadata": {},
   "source": [
    "Noticed that just **20%** of patients who have alcoholism and didn't show up, however **80%** of patients who have alcoholism showed up."
   ]
  },
  {
   "cell_type": "markdown",
   "metadata": {},
   "source": [
    "### Where is the place that most patients showed up?"
   ]
  },
  {
   "cell_type": "code",
   "execution_count": 24,
   "metadata": {},
   "outputs": [
    {
     "data": {
      "text/html": [
       "<table>\n",
       "<thead><tr><th scope=col>Neighbourhood</th><th scope=col>status</th><th scope=col>n</th></tr></thead>\n",
       "<tbody>\n",
       "\t<tr><td>JARDIM CAMBURI</td><td>TRUE          </td><td>7717          </td></tr>\n",
       "</tbody>\n",
       "</table>\n"
      ],
      "text/latex": [
       "\\begin{tabular}{r|lll}\n",
       " Neighbourhood & status & n\\\\\n",
       "\\hline\n",
       "\t JARDIM CAMBURI & TRUE           & 7717          \\\\\n",
       "\\end{tabular}\n"
      ],
      "text/markdown": [
       "\n",
       "| Neighbourhood | status | n |\n",
       "|---|---|---|\n",
       "| JARDIM CAMBURI | TRUE           | 7717           |\n",
       "\n"
      ],
      "text/plain": [
       "  Neighbourhood  status n   \n",
       "1 JARDIM CAMBURI TRUE   7717"
      ]
     },
     "metadata": {},
     "output_type": "display_data"
    }
   ],
   "source": [
    "# Group by Neighbourhood when a patient has showed up\n",
    "by_neighbourhood = group_by(appointment_data, Neighbourhood, status = TRUE)\n",
    "by_neighbourhood = mutate(count(by_neighbourhood))\n",
    "maxv = max(by_neighbourhood$n)\n",
    "most10 = arrange(by_neighbourhood,desc(n))[1:10,]\n",
    "most10[1, ]"
   ]
  },
  {
   "cell_type": "code",
   "execution_count": 25,
   "metadata": {},
   "outputs": [
    {
     "data": {
      "image/png": "[encoded data removed]",
      "text/plain": [
       "plot without title"
      ]
     },
     "metadata": {},
     "output_type": "display_data"
    }
   ],
   "source": [
    "most10 %>% \n",
    "    ggplot(aes(Neighbourhood, n)) +\n",
    "    geom_bar(stat=\"identity\", width = 0.5, fill=\"turquoise3\", color=\"turquoise4\") + \n",
    "    labs(title=\"Most 10 cities\", y=\"Appointments\") +\n",
    "    theme(axis.text.x = element_text(angle=65, vjust=0.6))"
   ]
  },
  {
   "cell_type": "markdown",
   "metadata": {},
   "source": [
    "The city that has the most **`7717`** showed up patients is **`JARDIM CAMBURI`**."
   ]
  },
  {
   "cell_type": "markdown",
   "metadata": {},
   "source": [
    "### What is the most disease by which the patients are diagnosed?"
   ]
  },
  {
   "cell_type": "code",
   "execution_count": 26,
   "metadata": {},
   "outputs": [
    {
     "data": {
      "text/html": [
       "<table>\n",
       "<thead><tr><th scope=col>Disease</th><th scope=col>perc</th></tr></thead>\n",
       "<tbody>\n",
       "\t<tr><td>Hipertension</td><td>19.7        </td></tr>\n",
       "\t<tr><td>Diabetes    </td><td> 7.2        </td></tr>\n",
       "\t<tr><td>Alcoholism  </td><td> 3.0        </td></tr>\n",
       "\t<tr><td>Handcap     </td><td> 2.0        </td></tr>\n",
       "</tbody>\n",
       "</table>\n"
      ],
      "text/latex": [
       "\\begin{tabular}{r|ll}\n",
       " Disease & perc\\\\\n",
       "\\hline\n",
       "\t Hipertension & 19.7        \\\\\n",
       "\t Diabetes     &  7.2        \\\\\n",
       "\t Alcoholism   &  3.0        \\\\\n",
       "\t Handcap      &  2.0        \\\\\n",
       "\\end{tabular}\n"
      ],
      "text/markdown": [
       "\n",
       "| Disease | perc |\n",
       "|---|---|\n",
       "| Hipertension | 19.7         |\n",
       "| Diabetes     |  7.2         |\n",
       "| Alcoholism   |  3.0         |\n",
       "| Handcap      |  2.0         |\n",
       "\n"
      ],
      "text/plain": [
       "  Disease      perc\n",
       "1 Hipertension 19.7\n",
       "2 Diabetes      7.2\n",
       "3 Alcoholism    3.0\n",
       "4 Handcap       2.0"
      ]
     },
     "metadata": {},
     "output_type": "display_data"
    }
   ],
   "source": [
    "by_disease = appointment_data[,9:12]\n",
    "mean_by_disease = summarise_each(by_disease, funs( mean( .,na.rm = TRUE)))\n",
    "mean_by_disease = data.frame(Disease=names(mean_by_disease), perc=round(as.double(unname(mean_by_disease))*100,1))\n",
    "mean_by_disease"
   ]
  },
  {
   "cell_type": "code",
   "execution_count": 27,
   "metadata": {},
   "outputs": [
    {
     "data": {
      "image/png": "[encoded data removed]",
      "text/plain": [
       "plot without title"
      ]
     },
     "metadata": {},
     "output_type": "display_data"
    }
   ],
   "source": [
    "mean_by_disease %>% \n",
    "    ggplot(aes(x=Disease, perc)) +\n",
    "    geom_bar(stat=\"identity\", width = 0.5, fill=\"thistle3\", color=\"thistle4\") + \n",
    "    geom_text(aes(label=perc), vjust=1.6, color=\"grey2\",\n",
    "                position = position_dodge(0.9), size=3.5) +\n",
    "    labs(title=\"Percentage of each Disease\", y=\"Percentage %\")"
   ]
  },
  {
   "cell_type": "markdown",
   "metadata": {},
   "source": [
    "The most common disease between all patients is **`Hipertension`** with almost **20%** more than the other."
   ]
  },
  {
   "cell_type": "markdown",
   "metadata": {},
   "source": [
    "### Does a certain age more committed to the appointment than the others?"
   ]
  },
  {
   "cell_type": "code",
   "execution_count": 28,
   "metadata": {},
   "outputs": [
    {
     "data": {
      "text/html": [
       "<table>\n",
       "<thead><tr><th scope=col>status</th><th scope=col>mean</th><th scope=col>median</th></tr></thead>\n",
       "<tbody>\n",
       "\t<tr><td>FALSE</td><td>34.3 </td><td>33   </td></tr>\n",
       "\t<tr><td> TRUE</td><td>37.8 </td><td>38   </td></tr>\n",
       "</tbody>\n",
       "</table>\n"
      ],
      "text/latex": [
       "\\begin{tabular}{r|lll}\n",
       " status & mean & median\\\\\n",
       "\\hline\n",
       "\t FALSE & 34.3  & 33   \\\\\n",
       "\t  TRUE & 37.8  & 38   \\\\\n",
       "\\end{tabular}\n"
      ],
      "text/markdown": [
       "\n",
       "| status | mean | median |\n",
       "|---|---|---|\n",
       "| FALSE | 34.3  | 33    |\n",
       "|  TRUE | 37.8  | 38    |\n",
       "\n"
      ],
      "text/plain": [
       "  status mean median\n",
       "1 FALSE  34.3 33    \n",
       "2  TRUE  37.8 38    "
      ]
     },
     "metadata": {},
     "output_type": "display_data"
    }
   ],
   "source": [
    "appointment_data %>% \n",
    "    group_by(status) %>%\n",
    "    summarize(mean = round(mean(Age, na.rm = TRUE),1), median = median(Age, na.rm = TRUE))"
   ]
  },
  {
   "cell_type": "code",
   "execution_count": 29,
   "metadata": {},
   "outputs": [
    {
     "data": {
      "image/png": "[encoded data removed]",
      "text/plain": [
       "plot without title"
      ]
     },
     "metadata": {},
     "output_type": "display_data"
    }
   ],
   "source": [
    "options(repr.plot.width = 5, repr.plot.height = 6)  \n",
    "appointment_data %>% \n",
    "    ggplot(aes(status, Age, fill=status)) + \n",
    "    geom_boxplot(varwidth=T, alpha=0.7) + \n",
    "    scale_fill_brewer(palette=\"Set1\") +\n",
    "    labs(fill=\"Showed\", y=\"Age\")"
   ]
  },
  {
   "cell_type": "markdown",
   "metadata": {},
   "source": [
    "The average age of the patients who showed up is **38** same as median. Patients who has 18 and above are more commited to the appointment than the others."
   ]
  },
  {
   "cell_type": "markdown",
   "metadata": {},
   "source": [
    "<a id='conclusions'></a>\n",
    "## Conclusions\n",
    "\n",
    "In this report we've discussed and investigated the **Medical Appointments No Shows Dataset** starting with the gathering, assessing, and cleaning the dataset. Also we've explored the data analytically by addressing some questions and drawing some conclusions about the dataset.\n",
    "\n",
    "The outcome of the analysis:\n",
    "1. Females are more committed to the schedule than males with **51.8%**.\n",
    "2. **80%** of the patients has showed up.\n",
    "3. Receiving SMS doesn't affect showing up the patient.\n",
    "4. The longer the duration between the registration and the appointment day, the fewer patients will show up.\n",
    "5. Patients who has Alcoholism are the most committed to the schedule.\n",
    "6. The most city that the patients showed up is **`JARDIM CAMBURI`**.\n",
    "7. **`Hipertension`** is the most disease patients will come to the appointments for and the next one is **`Diabetes`**.\n",
    "8. The older a patient, the more committed to the appointment.\n",
    "\n",
    "There're some limititions we've faced during our analysis such as:\n",
    "- All the variables are categorical and therefore most of them are independent."
   ]
  }
 ],
 "metadata": {
  "kernelspec": {
   "display_name": "R",
   "language": "R",
   "name": "ir"
  },
  "language_info": {
   "codemirror_mode": "r",
   "file_extension": ".r",
   "mimetype": "text/x-r-source",
   "name": "R",
   "pygments_lexer": "r",
   "version": "3.6.1"
  },
  "widgets": {
   "application/vnd.jupyter.widget-state+json": {
    "state": {},
    "version_major": 2,
    "version_minor": 0
   }
  }
 },
 "nbformat": 4,
 "nbformat_minor": 4
}
